{
 "cells": [
  {
   "cell_type": "code",
   "execution_count": 2,
   "metadata": {},
   "outputs": [],
   "source": [
    "%load_ext sql"
   ]
  },
  {
   "cell_type": "code",
   "execution_count": 3,
   "metadata": {},
   "outputs": [
    {
     "data": {
      "text/plain": [
       "'Connected: @Lib.db'"
      ]
     },
     "execution_count": 3,
     "metadata": {},
     "output_type": "execute_result"
    }
   ],
   "source": [
    "#make a connection with the database\n",
    "%sql sqlite:///Lib.db"
   ]
  },
  {
   "cell_type": "code",
   "execution_count": 18,
   "metadata": {},
   "outputs": [
    {
     "name": "stdout",
     "output_type": "stream",
     "text": [
      " * sqlite:///Lib.db\n",
      "Done.\n",
      "Done.\n",
      "Done.\n",
      "Done.\n",
      "Done.\n",
      "Done.\n",
      "Done.\n",
      "Done.\n",
      "Done.\n",
      "Done.\n",
      "Done.\n"
     ]
    },
    {
     "data": {
      "text/plain": [
       "[]"
      ]
     },
     "execution_count": 18,
     "metadata": {},
     "output_type": "execute_result"
    }
   ],
   "source": [
    "%%sql \n",
    "\n",
    "CREATE TABLE IF NOT EXISTS \"event\" ( \n",
    "    \"eventID\" INTEGER NOT NULL DEFAULT 0 UNIQUE CHECK(eventID <1000000 AND eventID>=0), \n",
    "    \"date\" TEXT NOT NULL DEFAULT 'TBA' ,\n",
    "    \"type\" TEXT NOT NULL DEFAULT 'none',\n",
    "    \"room\" TEXT NOT NULL DEFAULT 'TBA', \n",
    "    \"name\" TEXT NOT NULL, PRIMARY KEY(\"EventID\") );\n",
    "\n",
    "\n",
    "CREATE TABLE IF NOT EXISTS \"item\" (\n",
    "    \"itemID\" INTEGER NOT NULL DEFAULT 0 UNIQUE CHECK(itemID <1000000 AND itemID>=0), \n",
    "    \"borrowerID\" TEXT DEFAULT 0 CHECK (condition in ('A')),\n",
    "    \"condition\" TEXT CHECK(condition in ('A','B','P')),\n",
    "    \"type\" TEXT NOT NULL,\n",
    "    \"value\" REAL NOT NULL DEFAULT 0, \n",
    "    \"name\" TEXT NOT NULL, \n",
    "    \"dueDate\" TEXT DEFAULT '0000-00-00',\n",
    "    PRIMARY KEY(\"itemID\"), \n",
    "    FOREIGN KEY(\"borrowerID\") REFERENCES \"member\"(\"ID\") ON DELETE CASCADE );\n",
    "\n",
    "\n",
    "\n",
    "CREATE TABLE IF NOT EXISTS \"member\" ( \n",
    "    \"ID\" INTEGER NOT NULL DEFAULT 0 UNIQUE CHECK(ID <1000000 AND ID>=1),\n",
    "    \"DOB\" TEXT NOT NULL,\n",
    "    \"fine\" REAL NOT NULL DEFAULT 0,\n",
    "    \"gender\" TEXT CHECK(gender in ('M','F')),\n",
    "    \"name\" TEXT NOT NULL,\n",
    "    \"email\" TEXT CHECK(email LIKE '%@_%._%'), PRIMARY KEY(\"ID\") );\n",
    "\n",
    "\n",
    "CREATE TABLE  IF NOT EXISTS \"memberEvent\" ( \n",
    "    \"ID\" INTEGER,\n",
    "    \"eventID\" TEXT,\n",
    "    FOREIGN KEY(\"ID\") REFERENCES \"member\"(\"ID\") ON DELETE CASCADE\n",
    "  FOREIGN KEY(\"eventID\") REFERENCES \"event\"(\"eventID\") ON DELETE CASCADE);\n",
    "\n",
    "\n",
    "\n",
    "CREATE TABLE IF NOT EXISTS \"staff\" (\n",
    "    \"staffID\" INTEGER NOT NULL DEFAULT 0 UNIQUE CHECK(staffID <1000000 AND staffID>=1),\n",
    "    \"job\" TEXT, \n",
    "    \"name\" TEXT NOT NULL DEFAULT \"A\" , \n",
    "    \"gender\" TEXT CHECK(gender in ('M','F')),\n",
    "    \"DOB\" TEXT NOT NULL, \n",
    "    \"email\" TEXT CHECK(email LIKE '%@_%._%'),\n",
    "    PRIMARY KEY(\"staffID\") );\n",
    "\n",
    "\n",
    "CREATE TABLE IF NOT EXISTS \"staffEvent\" ( \n",
    "    \"staffID\" INTEGER,\n",
    "    \"eventID\" INTEGER, \n",
    "    FOREIGN KEY(\"staffID\") REFERENCES \"staff\"(\"staffID\") ON DELETE CASCADE\n",
    " FOREIGN KEY(\"eventID\") REFERENCES \"event\"(\"eventID\") ON DELETE CASCADE);\n",
    "\n",
    "CREATE UNIQUE INDEX IF NOT EXISTS \"idx_contacts_email\" ON \"staff\" ( \"email\" );\n",
    "CREATE UNIQUE INDEX IF NOT EXISTS \"idx_event_name\" ON \"event\" ( \"name\" );\n",
    "CREATE UNIQUE INDEX  IF NOT EXISTS \"idx_member_email\" ON \"member\" ( \"email\" );\n",
    "CREATE UNIQUE INDEX IF NOT EXISTS \"idx_item_ID\" ON \"item\" ( \"itemID\" );\n",
    "CREATE INDEX  IF NOT EXISTS\"idx_item_name\" ON \"item\" ( \"name\" ASC );\n",
    "\n",
    "\n"
   ]
  },
  {
   "cell_type": "code",
   "execution_count": 11,
   "metadata": {},
   "outputs": [
    {
     "name": "stdout",
     "output_type": "stream",
     "text": [
      " * sqlite:///Lib.db\n",
      "1 rows affected.\n",
      "1 rows affected.\n",
      "1 rows affected.\n",
      "1 rows affected.\n",
      "1 rows affected.\n",
      "1 rows affected.\n",
      "1 rows affected.\n"
     ]
    },
    {
     "data": {
      "text/plain": [
       "[]"
      ]
     },
     "execution_count": 11,
     "metadata": {},
     "output_type": "execute_result"
    }
   ],
   "source": [
    "%%sql\n",
    "INSERT INTO item values (12,0,'A','Book',25,\"1984\",date('now'));\n",
    "INSERT INTO item values (13,0,'A','DVD',80,\"1984\",date('now'));\n",
    "INSERT INTO item values (90,0,'A','Book',45,\"Fahrenheit 451\",date('now'));\n",
    "INSERT INTO item values (56,0,'A','Book',65,\"Lord of the Flies\",date('now'));\n",
    "INSERT INTO item values (101,0,'A','Book',20,\"Iron Angel\",date('now'));\n",
    "INSERT INTO item values (102,0,'A','DVD',45,\"When They Cry\",date('now'));\n",
    "INSERT INTO item values (103,0,'A','Book',30,\"Strange Terrain\",date('now'));\n",
    "INSERT INTO item values (104,0,'A','Book',25,\"The Broodhold\",date('now'));\n",
    "INSERT INTO item values (105,0,'A','DVD',50,\"SEPIKS\",date('now'));\n",
    "INSERT INTO item values (106,0,'A','DVD',50,\"SEPIKS REDUX\",date('now'));\n",
    "INSERT INTO item values (107,0,'A','DVD',45,\"The Broodhold\",date('now'));\n"
   ]
  },
  {
   "cell_type": "code",
   "execution_count": 4,
   "metadata": {},
   "outputs": [
    {
     "name": "stdout",
     "output_type": "stream",
     "text": [
      " * sqlite:///Lib.db\n",
      "Done.\n"
     ]
    },
    {
     "data": {
      "text/html": [
       "<table>\n",
       "    <tr>\n",
       "        <th>itemID</th>\n",
       "        <th>condition</th>\n",
       "        <th>name</th>\n",
       "        <th>dueDate</th>\n",
       "        <th>type</th>\n",
       "    </tr>\n",
       "    <tr>\n",
       "        <td>12</td>\n",
       "        <td>A</td>\n",
       "        <td>1984</td>\n",
       "        <td>2020-04-08</td>\n",
       "        <td>Book</td>\n",
       "    </tr>\n",
       "    <tr>\n",
       "        <td>13</td>\n",
       "        <td>A</td>\n",
       "        <td>1984</td>\n",
       "        <td>2020-04-08</td>\n",
       "        <td>DVD</td>\n",
       "    </tr>\n",
       "    <tr>\n",
       "        <td>56</td>\n",
       "        <td>A</td>\n",
       "        <td>Lord of the Flies</td>\n",
       "        <td>2020-04-08</td>\n",
       "        <td>Book</td>\n",
       "    </tr>\n",
       "    <tr>\n",
       "        <td>90</td>\n",
       "        <td>A</td>\n",
       "        <td>Fahrenheit 451</td>\n",
       "        <td>2020-04-08</td>\n",
       "        <td>Book</td>\n",
       "    </tr>\n",
       "</table>"
      ],
      "text/plain": [
       "[(12, 'A', '1984', '2020-04-08', 'Book'),\n",
       " (13, 'A', '1984', '2020-04-08', 'DVD'),\n",
       " (56, 'A', 'Lord of the Flies', '2020-04-08', 'Book'),\n",
       " (90, 'A', 'Fahrenheit 451', '2020-04-08', 'Book')]"
      ]
     },
     "execution_count": 4,
     "metadata": {},
     "output_type": "execute_result"
    }
   ],
   "source": [
    "%%sql \n",
    "select itemID,condition,name,dueDate,type from item"
   ]
  },
  {
   "cell_type": "code",
   "execution_count": 12,
   "metadata": {},
   "outputs": [
    {
     "name": "stdout",
     "output_type": "stream",
     "text": [
      " * sqlite:///Lib.db\n",
      "1 rows affected.\n",
      "1 rows affected.\n",
      "1 rows affected.\n",
      "1 rows affected.\n",
      "1 rows affected.\n",
      "1 rows affected.\n"
     ]
    },
    {
     "data": {
      "text/plain": [
       "[]"
      ]
     },
     "execution_count": 12,
     "metadata": {},
     "output_type": "execute_result"
    }
   ],
   "source": [
    "%%sql\n",
    "INSERT INTO member values (1001,\"1995-03-01\",0,'M',\"Devrim Kay\",'Dkay@hotmail.com');\n",
    "INSERT INTO member values (1002,\"1994-07-03\",0,'F',\"Ana Bray\",'Abraytex@gmail.com');\n",
    "INSERT INTO member values (1003,\"1964-12-23\",0,'M',\"Clovis Bray\",'Braytech@gmail.com');\n",
    "INSERT INTO member values (1004,\"1966-08-27\",0,'M',\"Ed Gein\",'Plainghoul@outlook.com');\n",
    "INSERT INTO member values (1005,\"1959-07-13\",0,'F',\"Erina Pendelton\",'Epenn@gmail.com');\n",
    "INSERT INTO member values (1006,\"2004-02-28\",0,'M',\"Gherman Titov\",'Cosmostep@gmail.com');\n",
    "INSERT INTO member values (69,\"2000-04-01\",0,'M',\"Hugh Jass\",'Sendhelp@hotmail.com');\n",
    "INSERT INTO member values (13,\"2000-03-06\",0,'M',\"Ben Dover\",'Notnice@gmail.com');\n",
    "INSERT INTO member values (420,\"1945-08-07\",0,'F',\"Jane Titor\",'noplease@hotmail.com');\n",
    "INSERT INTO member values (77,\"1963-11-22\",0,'M',\"John Wilkes\",'igottimetokill@outlook.com');\n"
   ]
  },
  {
   "cell_type": "code",
   "execution_count": 26,
   "metadata": {},
   "outputs": [
    {
     "name": "stdout",
     "output_type": "stream",
     "text": [
      " * sqlite:///Lib.db\n",
      "Done.\n"
     ]
    },
    {
     "data": {
      "text/html": [
       "<table>\n",
       "    <tr>\n",
       "        <th>ID</th>\n",
       "        <th>DOB</th>\n",
       "        <th>email</th>\n",
       "    </tr>\n",
       "    <tr>\n",
       "        <td>13</td>\n",
       "        <td>2000-03-06</td>\n",
       "        <td>Notnice@gmail.com</td>\n",
       "    </tr>\n",
       "    <tr>\n",
       "        <td>69</td>\n",
       "        <td>2000-04-01</td>\n",
       "        <td>Sendhelp@hotmail.com</td>\n",
       "    </tr>\n",
       "    <tr>\n",
       "        <td>77</td>\n",
       "        <td>1963-11-22</td>\n",
       "        <td>igottimetokill@outlook.com</td>\n",
       "    </tr>\n",
       "    <tr>\n",
       "        <td>420</td>\n",
       "        <td>1945-08-07</td>\n",
       "        <td>noplease@hotmail.com</td>\n",
       "    </tr>\n",
       "</table>"
      ],
      "text/plain": [
       "[(13, '2000-03-06', 'Notnice@gmail.com'),\n",
       " (69, '2000-04-01', 'Sendhelp@hotmail.com'),\n",
       " (77, '1963-11-22', 'igottimetokill@outlook.com'),\n",
       " (420, '1945-08-07', 'noplease@hotmail.com')]"
      ]
     },
     "execution_count": 26,
     "metadata": {},
     "output_type": "execute_result"
    }
   ],
   "source": [
    "%%sql\n",
    "\n",
    "select ID, DOB,email from member"
   ]
  },
  {
   "cell_type": "code",
   "execution_count": 20,
   "metadata": {},
   "outputs": [
    {
     "name": "stdout",
     "output_type": "stream",
     "text": [
      " * sqlite:///Lib.db\n",
      "1 rows affected.\n"
     ]
    },
    {
     "data": {
      "text/plain": [
       "[]"
      ]
     },
     "execution_count": 20,
     "metadata": {},
     "output_type": "execute_result"
    }
   ],
   "source": [
    "%%sql\n",
    "\n",
    "INSERT INTO staff values (1656,\"Volunteer\",\"Mingo Edgefield\",'F',\"1975-08-23\",'wantout@gmail.com');\n",
    "INSERT INTO staff values (96,\"Librarian\",\"Leslie Zemeckis\",'F',\"1985-07-03\",'ceasethefuture@gmail.com');\n",
    "INSERT INTO staff values (467,\"Librarian\",\"James Pon\",'M',\"1976-03-02\",'countryroad@gmail.com');\n",
    "INSERT INTO staff values (2934,\"Janitor\",\"Brad Fenton\",'M',\"1965-11-16\",'cleanisgood@gmail.com');\n",
    "INSERT INTO staff values (20001,\"Volunteer\",\"Paula Bradford\",'F',\"1980-04-13\",'breadisgood@gmail.com');\n",
    "INSERT INTO staff values (20002,\"Volunteer\",\"Richard Danse\",'M',\"1990-12-12\",'Ironbro@gmail.com');\n",
    "INSERT INTO staff values (20003,\"Janitor\",\"Seregey Gabinski\",'M',\"1971-02-08\",'noquestions@gmail.com');\n",
    "INSERT INTO staff values (20004,\"Librarian\",\"Tod Ellsworth\",'M',\"1990-03-12\",'errata@gmail.com');\n",
    "INSERT INTO staff values (20005,\"Bookeeper\",\"Xie Xie Sun\",'F',\"1995-10-16\",'sunnydayz@gmail.com');\n",
    "INSERT INTO staff values (20006,\"Bookeeper\",\"Artoria Pendragon\",'F',\"1992-05-05\",'merlin@gmail.com');\n"
   ]
  },
  {
   "cell_type": "code",
   "execution_count": 43,
   "metadata": {},
   "outputs": [
    {
     "name": "stdout",
     "output_type": "stream",
     "text": [
      " * sqlite:///Lib.db\n",
      "Done.\n"
     ]
    },
    {
     "data": {
      "text/html": [
       "<table>\n",
       "    <tr>\n",
       "        <th>staffID</th>\n",
       "        <th>name</th>\n",
       "        <th>email</th>\n",
       "    </tr>\n",
       "    <tr>\n",
       "        <td>96</td>\n",
       "        <td>Leslie Zemeckis</td>\n",
       "        <td>ceasethefuture@gmail.com</td>\n",
       "    </tr>\n",
       "    <tr>\n",
       "        <td>467</td>\n",
       "        <td>James Pon</td>\n",
       "        <td>countryroad@gmail.com</td>\n",
       "    </tr>\n",
       "    <tr>\n",
       "        <td>1656</td>\n",
       "        <td>Mingo Edgefield</td>\n",
       "        <td>wantout@gmail.com</td>\n",
       "    </tr>\n",
       "    <tr>\n",
       "        <td>2934</td>\n",
       "        <td>Brad Fenton</td>\n",
       "        <td>cleanisgood@gmail.com</td>\n",
       "    </tr>\n",
       "</table>"
      ],
      "text/plain": [
       "[(96, 'Leslie Zemeckis', 'ceasethefuture@gmail.com'),\n",
       " (467, 'James Pon', 'countryroad@gmail.com'),\n",
       " (1656, 'Mingo Edgefield', 'wantout@gmail.com'),\n",
       " (2934, 'Brad Fenton', 'cleanisgood@gmail.com')]"
      ]
     },
     "execution_count": 43,
     "metadata": {},
     "output_type": "execute_result"
    }
   ],
   "source": [
    "%%sql\n",
    "\n",
    "select staffID,name,email from staff"
   ]
  },
  {
   "cell_type": "code",
   "execution_count": 23,
   "metadata": {},
   "outputs": [
    {
     "name": "stdout",
     "output_type": "stream",
     "text": [
      " * sqlite:///Lib.db\n",
      "1 rows affected.\n",
      "1 rows affected.\n",
      "1 rows affected.\n",
      "1 rows affected.\n",
      "1 rows affected.\n"
     ]
    },
    {
     "data": {
      "text/plain": [
       "[]"
      ]
     },
     "execution_count": 23,
     "metadata": {},
     "output_type": "execute_result"
    }
   ],
   "source": [
    "%%sql\n",
    "\n",
    "INSERT INTO event values (99999,\"2020-06-05\",\"book club meeting\",\"B50\",\"Annual book club end of school year party 2020\");\n",
    "INSERT INTO event values (9949,\"2020-09-10\",\"movie night\",\"A45\",\"Back to School Movie Night 2020\");\n",
    "INSERT INTO event values (101010,\"2020-04-07\",\"book sale\",\"C65\",\"Spring Book Sale 2020\");\n",
    "INSERT INTO event values (15691, \"2020-08-11\",\"book and movie discussion\",\"A34\", \"The Talk 2020\");\n",
    "INSERT INTO event values (300,\"2020-05-04\",\"book club meeting\",\"B50\",\"book club meeting\");\n",
    "INSERT INTO event values (301,\"2020-05-19\",\"book club meeting\",\"B50\",\"book club meeting 1\");\n",
    "INSERT INTO event values (302,\"2020-05-26\",\"book club meeting\",\"B50\",\"book club meeting 2\");\n",
    "INSERT INTO event values (303,\"2020-05-8\",\"movie club\",\"A50\",\"movie club meeting\");\n",
    "INSERT INTO event values (304,\"2020-05-15\",\"movie club meeting\",\"A50\",\"movie club meeting 1\");\n",
    "INSERT INTO event values (305,\"2020-05-22\",\"movie club meeting\",\"A50\",\"movie club meeting 2\");\n",
    "\n"
   ]
  },
  {
   "cell_type": "code",
   "execution_count": 55,
   "metadata": {},
   "outputs": [
    {
     "name": "stdout",
     "output_type": "stream",
     "text": [
      " * sqlite:///Lib.db\n",
      "1 rows affected.\n",
      "1 rows affected.\n",
      "1 rows affected.\n",
      "1 rows affected.\n"
     ]
    },
    {
     "data": {
      "text/plain": [
       "[]"
      ]
     },
     "execution_count": 55,
     "metadata": {},
     "output_type": "execute_result"
    }
   ],
   "source": [
    "%%sql \n",
    "\n",
    "INSERT INTO staffEvent values (1656,101010);\n",
    "INSERT INTO staffEvent values (96,15691);\n",
    "INSERT INTO staffEvent values (96,99999);\n",
    "INSERT INTO staffEvent values (467,99999);"
   ]
  },
  {
   "cell_type": "code",
   "execution_count": null,
   "metadata": {},
   "outputs": [],
   "source": []
  }
 ],
 "metadata": {
  "kernelspec": {
   "display_name": "Python 3",
   "language": "python",
   "name": "python3"
  },
  "language_info": {
   "codemirror_mode": {
    "name": "ipython",
    "version": 3
   },
   "file_extension": ".py",
   "mimetype": "text/x-python",
   "name": "python",
   "nbconvert_exporter": "python",
   "pygments_lexer": "ipython3",
   "version": "3.7.4"
  }
 },
 "nbformat": 4,
 "nbformat_minor": 2
}
